{
 "cells": [
  {
   "cell_type": "code",
   "execution_count": 1,
   "metadata": {},
   "outputs": [],
   "source": [
    "card_pkey, door_pkey = (1526110, 20175123)"
   ]
  },
  {
   "cell_type": "code",
   "execution_count": 14,
   "metadata": {},
   "outputs": [],
   "source": [
    "subject_number = 1\n",
    "card_loop_size = 1\n",
    "while True:\n",
    "    subject_number *= 7\n",
    "    subject_number %= 20201227\n",
    "    \n",
    "    if subject_number == card_pkey:\n",
    "        break\n",
    "    card_loop_size += 1\n",
    "\n",
    "door_loop_size = 1\n",
    "subject_number = 1\n",
    "while True:\n",
    "    subject_number *= 7\n",
    "    subject_number %= 20201227\n",
    "    \n",
    "    if subject_number == door_pkey:\n",
    "        break\n",
    "    door_loop_size += 1"
   ]
  },
  {
   "cell_type": "code",
   "execution_count": 17,
   "metadata": {},
   "outputs": [
    {
     "data": {
      "text/plain": [
       "1050835"
      ]
     },
     "execution_count": 17,
     "metadata": {},
     "output_type": "execute_result"
    }
   ],
   "source": [
    "card_loop_size"
   ]
  },
  {
   "cell_type": "code",
   "execution_count": 23,
   "metadata": {},
   "outputs": [
    {
     "data": {
      "text/plain": [
       "10924063"
      ]
     },
     "execution_count": 23,
     "metadata": {},
     "output_type": "execute_result"
    }
   ],
   "source": [
    "subject_number = 1\n",
    "for i in range(card_loop_size):\n",
    "    subject_number *= door_pkey\n",
    "    subject_number %= 20201227\n",
    "subject_number"
   ]
  },
  {
   "cell_type": "code",
   "execution_count": 24,
   "metadata": {},
   "outputs": [
    {
     "data": {
      "text/plain": [
       "10924063"
      ]
     },
     "execution_count": 24,
     "metadata": {},
     "output_type": "execute_result"
    }
   ],
   "source": [
    "subject_number = 1\n",
    "for i in range(door_loop_size):\n",
    "    subject_number *= card_pkey\n",
    "    subject_number %= 20201227\n",
    "subject_number"
   ]
  },
  {
   "cell_type": "code",
   "execution_count": null,
   "metadata": {},
   "outputs": [],
   "source": []
  }
 ],
 "metadata": {
  "kernelspec": {
   "display_name": "Python 3",
   "language": "python",
   "name": "python3"
  },
  "language_info": {
   "codemirror_mode": {
    "name": "ipython",
    "version": 3
   },
   "file_extension": ".py",
   "mimetype": "text/x-python",
   "name": "python",
   "nbconvert_exporter": "python",
   "pygments_lexer": "ipython3",
   "version": "3.8.10"
  }
 },
 "nbformat": 4,
 "nbformat_minor": 4
}
