{
 "cells": [
  {
   "cell_type": "code",
   "execution_count": 378,
   "metadata": {},
   "outputs": [],
   "source": [
    "import re\n",
    "import numpy as np\n",
    "from scipy.ndimage import convolve"
   ]
  },
  {
   "cell_type": "code",
   "execution_count": 379,
   "metadata": {},
   "outputs": [],
   "source": [
    "with open('day24_input.txt', 'r') as f:\n",
    "    data = f.read().splitlines()\n",
    "dirs = re.compile('e|se|sw|w|nw|ne')\n",
    "data = [re.findall(dirs, line) for line in data]"
   ]
  },
  {
   "cell_type": "code",
   "execution_count": 380,
   "metadata": {},
   "outputs": [],
   "source": [
    "def get_position(tile):\n",
    "    pos = {'x': 0, 'y': 0}\n",
    "    for step in tile:\n",
    "        if step == 'e':\n",
    "            pos['x'] += 1\n",
    "        elif step == 'w':\n",
    "            pos['x'] -= 1\n",
    "        elif step == 'ne':\n",
    "            pos['x'] += 0.5\n",
    "            pos['y'] += 1\n",
    "        elif step == 'sw':\n",
    "            pos['x'] -= 0.5\n",
    "            pos['y'] -= 1\n",
    "        elif step == 'se':\n",
    "            pos['x'] += 0.5\n",
    "            pos['y'] -= 1\n",
    "        elif step == 'nw':\n",
    "            pos['x'] -= 0.5\n",
    "            pos['y'] += 1\n",
    "    return pos"
   ]
  },
  {
   "cell_type": "code",
   "execution_count": 381,
   "metadata": {},
   "outputs": [],
   "source": [
    "test_data = \"\"\"sesenwnenenewseeswwswswwnenewsewsw\n",
    "neeenesenwnwwswnenewnwwsewnenwseswesw\n",
    "seswneswswsenwwnwse\n",
    "nwnwneseeswswnenewneswwnewseswneseene\n",
    "swweswneswnenwsewnwneneseenw\n",
    "eesenwseswswnenwswnwnwsewwnwsene\n",
    "sewnenenenesenwsewnenwwwse\n",
    "wenwwweseeeweswwwnwwe\n",
    "wsweesenenewnwwnwsenewsenwwsesesenwne\n",
    "neeswseenwwswnwswswnw\n",
    "nenwswwsewswnenenewsenwsenwnesesenew\n",
    "enewnwewneswsewnwswenweswnenwsenwsw\n",
    "sweneswneswneneenwnewenewwneswswnese\n",
    "swwesenesewenwneswnwwneseswwne\n",
    "enesenwswwswneneswsenwnewswseenwsese\n",
    "wnwnesenesenenwwnenwsewesewsesesew\n",
    "nenewswnwewswnenesenwnesewesw\n",
    "eneswnwswnwsenenwnwnwwseeswneewsenese\n",
    "neswnwewnwnwseenwseesewsenwsweewe\n",
    "wseweeenwnesenwwwswnew\"\"\".splitlines()\n",
    "test_data = [re.findall(dirs, line) for line in test_data]"
   ]
  },
  {
   "cell_type": "code",
   "execution_count": 382,
   "metadata": {},
   "outputs": [],
   "source": [
    "black_tiles = set()\n",
    "for tile in data:\n",
    "    tile_pos = tuple(get_position(tile).values())\n",
    "    if tile_pos in black_tiles:\n",
    "        black_tiles.remove(tile_pos)\n",
    "    else:\n",
    "        black_tiles.add(tile_pos)"
   ]
  },
  {
   "cell_type": "code",
   "execution_count": 383,
   "metadata": {},
   "outputs": [
    {
     "data": {
      "text/plain": [
       "382"
      ]
     },
     "execution_count": 383,
     "metadata": {},
     "output_type": "execute_result"
    }
   ],
   "source": [
    "len(black_tiles)"
   ]
  },
  {
   "cell_type": "code",
   "execution_count": 384,
   "metadata": {},
   "outputs": [],
   "source": [
    "# Map hexagonal grid to 2D coords\n",
    "def get_position_cube(tile):\n",
    "    pos = {'r': 0, 'q': 0}\n",
    "    for step in tile:\n",
    "        if step == 'e':\n",
    "            pos['q'] += 1\n",
    "        elif step == 'w':\n",
    "            pos['q'] -= 1\n",
    "        elif step == 'ne':\n",
    "            pos['q'] += 1\n",
    "            pos['r'] -= 1\n",
    "        elif step == 'sw':\n",
    "            pos['q'] -= 1\n",
    "            pos['r'] += 1\n",
    "        elif step == 'se':\n",
    "            pos['r'] += 1\n",
    "        elif step == 'nw':\n",
    "            pos['r'] -= 1\n",
    "    return pos"
   ]
  },
  {
   "cell_type": "code",
   "execution_count": 387,
   "metadata": {},
   "outputs": [],
   "source": [
    "black_tiles = set()\n",
    "for tile in data:\n",
    "    tile_pos = tuple(get_position_cube(tile).values())\n",
    "    if tile_pos in black_tiles:\n",
    "        black_tiles.remove(tile_pos)\n",
    "    else:\n",
    "        black_tiles.add(tile_pos)"
   ]
  },
  {
   "cell_type": "code",
   "execution_count": 388,
   "metadata": {},
   "outputs": [],
   "source": [
    "black_idxs = np.array(list(black_tiles))\n",
    "black_idxs += np.ptp(black_idxs, 0)//2"
   ]
  },
  {
   "cell_type": "code",
   "execution_count": 390,
   "metadata": {},
   "outputs": [],
   "source": [
    "mask = np.ones([3, 3]) - np.diag([1, 1, 1])\n",
    "\n",
    "board = np.zeros(np.ptp(black_idxs, 0) + 1)\n",
    "board[black_idxs[:, 0], black_idxs[:, 1]] = 1\n",
    "\n",
    "for i in range(100):\n",
    "    board = np.pad(board, [(1,1), (1,1)], mode='constant', constant_values=0)\n",
    "    conv_board = convolve(board, mask, mode='constant', cval=0)\n",
    "    board = (((board == 1) != ((board == 1) & ((conv_board == 0) | (conv_board > 2)))) | \n",
    "             ((board == 0) & (conv_board == 2))).astype(np.uint8)"
   ]
  },
  {
   "cell_type": "code",
   "execution_count": 391,
   "metadata": {},
   "outputs": [
    {
     "data": {
      "text/plain": [
       "3964"
      ]
     },
     "execution_count": 391,
     "metadata": {},
     "output_type": "execute_result"
    }
   ],
   "source": [
    "board.sum()"
   ]
  },
  {
   "cell_type": "code",
   "execution_count": null,
   "metadata": {},
   "outputs": [],
   "source": []
  }
 ],
 "metadata": {
  "kernelspec": {
   "display_name": "Python 3",
   "language": "python",
   "name": "python3"
  },
  "language_info": {
   "codemirror_mode": {
    "name": "ipython",
    "version": 3
   },
   "file_extension": ".py",
   "mimetype": "text/x-python",
   "name": "python",
   "nbconvert_exporter": "python",
   "pygments_lexer": "ipython3",
   "version": "3.8.10"
  }
 },
 "nbformat": 4,
 "nbformat_minor": 4
}
