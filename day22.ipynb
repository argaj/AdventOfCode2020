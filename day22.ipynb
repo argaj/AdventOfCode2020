{
 "cells": [
  {
   "cell_type": "code",
   "execution_count": 124,
   "metadata": {},
   "outputs": [],
   "source": [
    "with open('day22_input.txt', 'r') as f:\n",
    "    data = [line.rstrip('\\n') for line in f]"
   ]
  },
  {
   "cell_type": "code",
   "execution_count": 316,
   "metadata": {},
   "outputs": [],
   "source": [
    "p1 = [int(i) for i in data[1:26]]\n",
    "p2 = [int(i) for i in data[28:]]"
   ]
  },
  {
   "cell_type": "code",
   "execution_count": 317,
   "metadata": {},
   "outputs": [],
   "source": [
    "i = 1\n",
    "while p1 and p2:\n",
    "    c1 = p1.pop(0)\n",
    "    c2 = p2.pop(0)   \n",
    "    if c1 > c2:\n",
    "        p1.insert(len(p1), c1)\n",
    "        p1.insert(len(p1), c2)\n",
    "    else:\n",
    "        p2.insert(len(p2), c2)\n",
    "        p2.insert(len(p2), c1)\n",
    "    i += 1"
   ]
  },
  {
   "cell_type": "code",
   "execution_count": 318,
   "metadata": {},
   "outputs": [
    {
     "data": {
      "text/plain": [
       "31781"
      ]
     },
     "execution_count": 318,
     "metadata": {},
     "output_type": "execute_result"
    }
   ],
   "source": [
    "sum([a * b for a,b in zip(p1 or p2, reversed(range(1, len(p1) + len(p2) + 1)))] )"
   ]
  },
  {
   "cell_type": "code",
   "execution_count": 310,
   "metadata": {},
   "outputs": [],
   "source": [
    "def recursive_combat(p1, p2):\n",
    "    mem = set()\n",
    "    while p1 and p2:\n",
    "        if (p1, p2) in mem: \n",
    "            return p1 + p2, ()      \n",
    "        mem.add((p1, p2))\n",
    "\n",
    "        c1, p1 = p1[0], p1[1:]\n",
    "        c2, p2 = p2[0], p2[1:]\n",
    "\n",
    "        if len(p1) >= c1 and len(p2) >= c2:\n",
    "            r1, r2 = recursive_combat(p1[:c1], p2[:c2])\n",
    "            if r1: \n",
    "                p1 += (c1, c2)\n",
    "            else:\n",
    "                p2 += (c2, c1)\n",
    "        elif c1 > c2:\n",
    "            p1 += (c1, c2)\n",
    "        else:\n",
    "            p2 += (c2, c1)\n",
    "    return p1, p2"
   ]
  },
  {
   "cell_type": "code",
   "execution_count": 304,
   "metadata": {},
   "outputs": [],
   "source": [
    "# p1 = [9, 2, 6, 3, 1]\n",
    "# p2 = [5, 8, 4, 7, 10]"
   ]
  },
  {
   "cell_type": "code",
   "execution_count": 321,
   "metadata": {},
   "outputs": [],
   "source": [
    "p1 = [int(i) for i in data[1:26]]\n",
    "p2 = [int(i) for i in data[28:]]"
   ]
  },
  {
   "cell_type": "code",
   "execution_count": 322,
   "metadata": {},
   "outputs": [],
   "source": [
    "p1, p2 = recursive_combat(tuple(p1), tuple(p2))"
   ]
  },
  {
   "cell_type": "code",
   "execution_count": 323,
   "metadata": {},
   "outputs": [
    {
     "data": {
      "text/plain": [
       "35154"
      ]
     },
     "execution_count": 323,
     "metadata": {},
     "output_type": "execute_result"
    }
   ],
   "source": [
    "sum([a * b for a,b in zip(p1 or p2, reversed(range(1, len(p1) + len(p2) + 1)))] )"
   ]
  },
  {
   "cell_type": "code",
   "execution_count": null,
   "metadata": {},
   "outputs": [],
   "source": []
  }
 ],
 "metadata": {
  "kernelspec": {
   "display_name": "Python 3",
   "language": "python",
   "name": "python3"
  },
  "language_info": {
   "codemirror_mode": {
    "name": "ipython",
    "version": 3
   },
   "file_extension": ".py",
   "mimetype": "text/x-python",
   "name": "python",
   "nbconvert_exporter": "python",
   "pygments_lexer": "ipython3",
   "version": "3.8.10"
  }
 },
 "nbformat": 4,
 "nbformat_minor": 4
}
