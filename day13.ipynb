{
 "cells": [
  {
   "cell_type": "code",
   "execution_count": 9,
   "metadata": {},
   "outputs": [],
   "source": [
    "from math import ceil"
   ]
  },
  {
   "cell_type": "code",
   "execution_count": 1,
   "metadata": {},
   "outputs": [],
   "source": [
    "with open('day13_input.txt', 'r') as f:\n",
    "    data = [line.rstrip('\\n') for line in f]"
   ]
  },
  {
   "cell_type": "code",
   "execution_count": 3,
   "metadata": {},
   "outputs": [],
   "source": [
    "timestamp = int(data[0])\n",
    "buses = data[1].split(',')"
   ]
  },
  {
   "cell_type": "code",
   "execution_count": 17,
   "metadata": {},
   "outputs": [],
   "source": [
    "bus_timestamps = {}\n",
    "for bus in buses:\n",
    "    if bus == 'x':\n",
    "        continue\n",
    "    bus = int(bus)\n",
    "    bus_timestamps[bus] = bus * ceil(timestamp / bus) - timestamp "
   ]
  },
  {
   "cell_type": "code",
   "execution_count": 18,
   "metadata": {},
   "outputs": [
    {
     "data": {
      "text/plain": [
       "{13: 12, 41: 10, 997: 598, 23: 18, 19: 17, 29: 23, 619: 533, 37: 16, 17: 9}"
      ]
     },
     "execution_count": 18,
     "metadata": {},
     "output_type": "execute_result"
    }
   ],
   "source": [
    "bus_timestamps"
   ]
  },
  {
   "cell_type": "code",
   "execution_count": 275,
   "metadata": {},
   "outputs": [],
   "source": [
    "bus_offsets = [(int(buses[0]), 44)]\n",
    "for i, bus in enumerate(buses[1:], start=1):\n",
    "    if bus == 'x':\n",
    "        continue\n",
    "    bus_offsets.append((int(bus), int(bus) - i + 44))"
   ]
  },
  {
   "cell_type": "code",
   "execution_count": 276,
   "metadata": {},
   "outputs": [
    {
     "data": {
      "text/plain": [
       "[(13, 44),\n",
       " (41, 82),\n",
       " (997, 1028),\n",
       " (23, 46),\n",
       " (19, 31),\n",
       " (29, 31),\n",
       " (619, 619),\n",
       " (37, 31),\n",
       " (17, 0)]"
      ]
     },
     "execution_count": 276,
     "metadata": {},
     "output_type": "execute_result"
    }
   ],
   "source": [
    "bus_offsets"
   ]
  },
  {
   "cell_type": "code",
   "execution_count": 313,
   "metadata": {},
   "outputs": [],
   "source": [
    "#doesnt work\n",
    "def solve(p1, p2):\n",
    "    print(f'p1[0]: {p1[0]}, p1[1]: {p1[1]}')\n",
    "    print(f'p2[0]: {p2[0]}, p2[1]: {p2[1]}')\n",
    "    for i in range(p1[0] * p2[0]):\n",
    "        if (p1[1] + i * p1[0]) % p2[0] == p2[1]:\n",
    "            print(p1[0] * p2[0], p1[1] + i * p1[0])\n",
    "            return p1[0] * p2[0], p1[1] + i * p1[0]"
   ]
  },
  {
   "cell_type": "code",
   "execution_count": 90,
   "metadata": {},
   "outputs": [],
   "source": [
    "from functools import reduce\n",
    "reduce(lambda x,y: solve(x, y), bus_offsets)"
   ]
  },
  {
   "cell_type": "code",
   "execution_count": 311,
   "metadata": {},
   "outputs": [
    {
     "name": "stdout",
     "output_type": "stream",
     "text": [
      "471793476184438\n"
     ]
    }
   ],
   "source": [
    "from functools import reduce\n",
    "def chinese_remainder(n, a):\n",
    "    sum = 0\n",
    "    prod = reduce(lambda a, b: a*b, n)\n",
    "    for n_i, a_i in zip(n, a):\n",
    "        p = prod // n_i\n",
    "        sum += a_i * mul_inv(p, n_i) * p\n",
    "    return sum % prod\n",
    " \n",
    " \n",
    " \n",
    "def mul_inv(a, b):\n",
    "    b0 = b\n",
    "    x0, x1 = 0, 1\n",
    "    if b == 1: return 1\n",
    "    while a > 1:\n",
    "        q = a // b\n",
    "        a, b = b, a%b\n",
    "        x0, x1 = x1 - q * x0, x0\n",
    "    if x1 < 0: x1 += b0\n",
    "    return x1\n",
    " \n",
    "n = [13, 41, 997, 23, 19, 29, 619, 37, 17] \n",
    "a = [44, 82, 1028, 46, 31, 31, 619, 31, 0]\n",
    "print(chinese_remainder(n, a))"
   ]
  },
  {
   "cell_type": "code",
   "execution_count": 286,
   "metadata": {},
   "outputs": [
    {
     "data": {
      "text/plain": [
       "471793476184394"
      ]
     },
     "execution_count": 286,
     "metadata": {},
     "output_type": "execute_result"
    }
   ],
   "source": [
    "471793476184438 - 44"
   ]
  },
  {
   "cell_type": "code",
   "execution_count": null,
   "metadata": {},
   "outputs": [],
   "source": []
  }
 ],
 "metadata": {
  "kernelspec": {
   "display_name": "Python 3",
   "language": "python",
   "name": "python3"
  },
  "language_info": {
   "codemirror_mode": {
    "name": "ipython",
    "version": 3
   },
   "file_extension": ".py",
   "mimetype": "text/x-python",
   "name": "python",
   "nbconvert_exporter": "python",
   "pygments_lexer": "ipython3",
   "version": "3.8.5"
  }
 },
 "nbformat": 4,
 "nbformat_minor": 4
}
