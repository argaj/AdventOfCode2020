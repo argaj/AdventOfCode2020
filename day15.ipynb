{
 "cells": [
  {
   "cell_type": "code",
   "execution_count": 1,
   "metadata": {},
   "outputs": [],
   "source": [
    "import time"
   ]
  },
  {
   "cell_type": "code",
   "execution_count": 2,
   "metadata": {},
   "outputs": [],
   "source": [
    "with open('day15_input.txt', 'r') as f:\n",
    "    data = [line.rstrip('\\n') for line in f]\n",
    "data = [int(n) for n in data[0].split(',')]"
   ]
  },
  {
   "cell_type": "code",
   "execution_count": 3,
   "metadata": {},
   "outputs": [],
   "source": [
    "data_1 = data.copy()\n",
    "for i in range(6, 2020):\n",
    "    prev = data_1[i - 1]\n",
    "    if data_1.count(prev) == 1:\n",
    "        data_1.append(0)\n",
    "    else:\n",
    "        for j in reversed(range(i - 1)):\n",
    "            if data_1[j] == prev:\n",
    "                data_1.append(i - 1 - j)\n",
    "                break"
   ]
  },
  {
   "cell_type": "code",
   "execution_count": 4,
   "metadata": {},
   "outputs": [
    {
     "data": {
      "text/plain": [
       "20"
      ]
     },
     "execution_count": 4,
     "metadata": {},
     "output_type": "execute_result"
    }
   ],
   "source": [
    "data[-1]"
   ]
  },
  {
   "cell_type": "code",
   "execution_count": 5,
   "metadata": {},
   "outputs": [],
   "source": [
    "mem = dict(zip(data, range(6)))\n",
    "data.append(0)"
   ]
  },
  {
   "cell_type": "code",
   "execution_count": 6,
   "metadata": {},
   "outputs": [
    {
     "name": "stdout",
     "output_type": "stream",
     "text": [
      "17.986 s\n",
      "6428\n"
     ]
    }
   ],
   "source": [
    "start = time.time()\n",
    "for i in range(7, 30000000):\n",
    "    if data[i - 1] not in mem:\n",
    "        mem[data[i - 1]] = i - 1\n",
    "        data.append(0)\n",
    "    else:\n",
    "        data.append(i - 1 - mem[data[i - 1]])\n",
    "        mem[data[i - 1]] = i - 1\n",
    "end = time.time()\n",
    "print(f'{(end-start):.3f} s')\n",
    "print(data[-1])"
   ]
  },
  {
   "cell_type": "code",
   "execution_count": null,
   "metadata": {},
   "outputs": [],
   "source": []
  }
 ],
 "metadata": {
  "kernelspec": {
   "display_name": "Python 3",
   "language": "python",
   "name": "python3"
  },
  "language_info": {
   "codemirror_mode": {
    "name": "ipython",
    "version": 3
   },
   "file_extension": ".py",
   "mimetype": "text/x-python",
   "name": "python",
   "nbconvert_exporter": "python",
   "pygments_lexer": "ipython3",
   "version": "3.8.5"
  }
 },
 "nbformat": 4,
 "nbformat_minor": 4
}
