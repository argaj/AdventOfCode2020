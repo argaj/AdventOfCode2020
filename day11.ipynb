{
 "cells": [
  {
   "cell_type": "code",
   "execution_count": 1,
   "metadata": {},
   "outputs": [],
   "source": [
    "from scipy.signal import convolve\n",
    "from itertools import product\n",
    "import numpy as np"
   ]
  },
  {
   "cell_type": "code",
   "execution_count": 2,
   "metadata": {},
   "outputs": [],
   "source": [
    "with open('day11_input.txt', 'r') as f:\n",
    "    data = [line.rstrip('\\n') for line in f]\n",
    "data = [[i for i in line] for line in data]"
   ]
  },
  {
   "cell_type": "code",
   "execution_count": 3,
   "metadata": {},
   "outputs": [],
   "source": [
    "mask = np.array([[1,1,1], [1,0,1], [1,1,1]])"
   ]
  },
  {
   "cell_type": "code",
   "execution_count": 4,
   "metadata": {},
   "outputs": [],
   "source": [
    "def new_seats(seats):\n",
    "    counts = []\n",
    "    floor = []\n",
    "    for i in range(len(seats)):\n",
    "        line = []\n",
    "        for j in range(len(seats[i])):\n",
    "            if seats[i, j] == 'L' or seats[i, j] == '.':\n",
    "                line.append(0)\n",
    "            if seats[i, j] == '#':\n",
    "                line.append(1)\n",
    "            if seats[i, j] == '.':\n",
    "                floor.append((i, j))\n",
    "        counts.append(line)    \n",
    "    \n",
    "    new_seats = []\n",
    "    conv = convolve(counts, mask, mode='same')\n",
    "    for i in range(conv.shape[0]):\n",
    "        new_row = [] \n",
    "        for j in range(conv.shape[1]):\n",
    "            if (i, j) in floor:\n",
    "                new_row.append('.')\n",
    "            elif seats[i, j] == 'L':\n",
    "                new_row.append('#' if conv[i, j] == 0 else 'L')\n",
    "            elif seats[i, j] == '#':\n",
    "                new_row.append('L' if conv[i, j] > 3 else '#')\n",
    "        new_seats.append(new_row)\n",
    "    return np.array(new_seats)"
   ]
  },
  {
   "cell_type": "code",
   "execution_count": 5,
   "metadata": {},
   "outputs": [],
   "source": [
    "seats = new_seats(np.array(data))\n",
    "next_seats = new_seats(seats)\n",
    "while not (next_seats == seats).all():\n",
    "    seats = next_seats\n",
    "    next_seats = new_seats(next_seats)"
   ]
  },
  {
   "cell_type": "code",
   "execution_count": 6,
   "metadata": {},
   "outputs": [
    {
     "data": {
      "text/plain": [
       "2329"
      ]
     },
     "execution_count": 6,
     "metadata": {},
     "output_type": "execute_result"
    }
   ],
   "source": [
    "(next_seats == '#').sum()"
   ]
  },
  {
   "cell_type": "code",
   "execution_count": 7,
   "metadata": {},
   "outputs": [],
   "source": [
    "angles = [np.array(coord) for coord in product([-1,0,1], repeat=2)]\n",
    "angles.pop(4) # remove (0,0)\n",
    "seats = np.array(data)"
   ]
  },
  {
   "cell_type": "code",
   "execution_count": 8,
   "metadata": {},
   "outputs": [],
   "source": [
    "def part_2(seats):\n",
    "    def count_occupied():\n",
    "        occupied = 0\n",
    "        for angle in angles:\n",
    "            j = 1\n",
    "            idxs = np.array([r, c]) + j * angle\n",
    "            while idxs[0] < len(seats) and idxs[0] >= 0 and idxs[1] < len(line) and idxs[1] >= 0:\n",
    "                if seats[idxs[0], idxs[1]] == 'L':\n",
    "                    break\n",
    "                if seats[idxs[0], idxs[1]] == '#':\n",
    "                    occupied += 1\n",
    "                    break\n",
    "                j += 1\n",
    "                idxs = np.array([r, c]) + j * angle\n",
    "        return occupied\n",
    "    \n",
    "    while True:\n",
    "        new_seats = []\n",
    "        for r, line in enumerate(seats):\n",
    "            new_line = []\n",
    "            for c, i in enumerate(line):\n",
    "                if i == '.':\n",
    "                    new_line.append('.')\n",
    "                elif i == 'L':\n",
    "                    occupied = count_occupied()\n",
    "                    new_line.append('#' if occupied == 0 else 'L')\n",
    "                else:\n",
    "                    occupied = count_occupied()\n",
    "                    new_line.append('L' if occupied > 4 else '#')\n",
    "            new_seats.append(new_line)\n",
    "        new_seats = np.array(new_seats)\n",
    "        \n",
    "        if (seats == new_seats).all():\n",
    "            return new_seats\n",
    "        seats = np.array(new_seats)"
   ]
  },
  {
   "cell_type": "code",
   "execution_count": 9,
   "metadata": {},
   "outputs": [
    {
     "data": {
      "text/plain": [
       "2138"
      ]
     },
     "execution_count": 9,
     "metadata": {},
     "output_type": "execute_result"
    }
   ],
   "source": [
    "(part_2(seats) == '#').sum()"
   ]
  },
  {
   "cell_type": "code",
   "execution_count": null,
   "metadata": {},
   "outputs": [],
   "source": []
  }
 ],
 "metadata": {
  "kernelspec": {
   "display_name": "Python 3",
   "language": "python",
   "name": "python3"
  },
  "language_info": {
   "codemirror_mode": {
    "name": "ipython",
    "version": 3
   },
   "file_extension": ".py",
   "mimetype": "text/x-python",
   "name": "python",
   "nbconvert_exporter": "python",
   "pygments_lexer": "ipython3",
   "version": "3.8.5"
  }
 },
 "nbformat": 4,
 "nbformat_minor": 4
}
