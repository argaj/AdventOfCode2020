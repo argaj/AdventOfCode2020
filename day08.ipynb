{
 "cells": [
  {
   "cell_type": "code",
   "execution_count": 1,
   "metadata": {},
   "outputs": [],
   "source": [
    "import copy"
   ]
  },
  {
   "cell_type": "code",
   "execution_count": 2,
   "metadata": {},
   "outputs": [],
   "source": [
    "with open('day08_input.txt', 'r') as f:\n",
    "    data = [line.rstrip('\\n') for line in f]"
   ]
  },
  {
   "cell_type": "code",
   "execution_count": 3,
   "metadata": {},
   "outputs": [],
   "source": [
    "def parse(code):\n",
    "    def is_entering_loop():\n",
    "        if any(i > 1 for i in inst_count):\n",
    "            if not PART_2: print(acc)\n",
    "            return True\n",
    "        return False\n",
    "    acc = 0\n",
    "    i = 0\n",
    "    inst_count = [0 for i in range(len(code))]\n",
    "    while True:\n",
    "        line = code[i]\n",
    "        if line[0] == 'acc':\n",
    "            inst_count[i] += 1\n",
    "            if is_entering_loop():\n",
    "                break\n",
    "            acc += line[1]\n",
    "            i += 1\n",
    "        elif line[0] == 'jmp':\n",
    "            inst_count[i] += 1\n",
    "            if is_entering_loop():\n",
    "                break\n",
    "            i += line[1]\n",
    "        elif line[0] == 'nop':\n",
    "            inst_count[i] += 1\n",
    "            if is_entering_loop():\n",
    "                break\n",
    "            i += 1\n",
    "        elif line[0] == '':\n",
    "            print(acc)\n",
    "            break"
   ]
  },
  {
   "cell_type": "code",
   "execution_count": 4,
   "metadata": {},
   "outputs": [],
   "source": [
    "data = [line.split() for line in data]\n",
    "data.append(['', '0'])\n",
    "data = [[line[0], int(line[1])] for line in data]"
   ]
  },
  {
   "cell_type": "code",
   "execution_count": 5,
   "metadata": {},
   "outputs": [
    {
     "name": "stdout",
     "output_type": "stream",
     "text": [
      "1684\n"
     ]
    }
   ],
   "source": [
    "PART_2 = False\n",
    "parse(data)"
   ]
  },
  {
   "cell_type": "code",
   "execution_count": 6,
   "metadata": {},
   "outputs": [
    {
     "name": "stdout",
     "output_type": "stream",
     "text": [
      "2188\n"
     ]
    }
   ],
   "source": [
    "PART_2 = True\n",
    "for i in range(len(data)):\n",
    "    data_ = copy.deepcopy(data)\n",
    "    if data[i][0] == 'nop':\n",
    "        data_[i][0] = 'jmp'\n",
    "        parse(data_)\n",
    "    elif data[i][0] == 'jmp':\n",
    "        data_[i][0] = 'nop'\n",
    "        parse(data_)"
   ]
  },
  {
   "cell_type": "code",
   "execution_count": null,
   "metadata": {},
   "outputs": [],
   "source": []
  }
 ],
 "metadata": {
  "kernelspec": {
   "display_name": "Python 3",
   "language": "python",
   "name": "python3"
  },
  "language_info": {
   "codemirror_mode": {
    "name": "ipython",
    "version": 3
   },
   "file_extension": ".py",
   "mimetype": "text/x-python",
   "name": "python",
   "nbconvert_exporter": "python",
   "pygments_lexer": "ipython3",
   "version": "3.8.5"
  }
 },
 "nbformat": 4,
 "nbformat_minor": 4
}
