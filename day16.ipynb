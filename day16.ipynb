{
 "cells": [
  {
   "cell_type": "code",
   "execution_count": 1,
   "metadata": {},
   "outputs": [],
   "source": [
    "import numpy as np\n",
    "from operator import mul \n",
    "from functools import reduce"
   ]
  },
  {
   "cell_type": "code",
   "execution_count": 2,
   "metadata": {},
   "outputs": [],
   "source": [
    "with open('day16_input.txt', 'r') as f:\n",
    "    data = [line.rstrip('\\n') for line in f]"
   ]
  },
  {
   "cell_type": "code",
   "execution_count": 3,
   "metadata": {},
   "outputs": [],
   "source": [
    "fields = {}\n",
    "for field in data[:20]:\n",
    "    line = field.split(': ')\n",
    "    fields[line[0]] = [(int(val.split('-')[0]), int(val.split('-')[1])) for val in line[1].split(' or ')]\n",
    "for field in fields:\n",
    "    fields[field] = reduce(lambda x,y: x.union(y), [set(range(range_[0], range_[1] + 1)) for range_ in fields[field]])"
   ]
  },
  {
   "cell_type": "code",
   "execution_count": 4,
   "metadata": {},
   "outputs": [],
   "source": [
    "my_ticket = [int(i) for i in data[22].split(',')]"
   ]
  },
  {
   "cell_type": "code",
   "execution_count": 5,
   "metadata": {},
   "outputs": [],
   "source": [
    "other_tickets = []\n",
    "for line in data[25:]:\n",
    "    other_tickets.append([int(i) for i in line.split(',')])"
   ]
  },
  {
   "cell_type": "code",
   "execution_count": 6,
   "metadata": {},
   "outputs": [
    {
     "name": "stdout",
     "output_type": "stream",
     "text": [
      "25961\n"
     ]
    }
   ],
   "source": [
    "error_rate = 0\n",
    "to_discard = set()\n",
    "for i, ticket in enumerate(other_tickets):\n",
    "    for val in ticket:\n",
    "        if not any([val in ranges for ranges in fields.values()]):\n",
    "            error_rate += val\n",
    "            to_discard.add(i)\n",
    "print(error_rate)"
   ]
  },
  {
   "cell_type": "code",
   "execution_count": 7,
   "metadata": {},
   "outputs": [],
   "source": [
    "valid_tickets = np.array([ticket for i, ticket in enumerate(other_tickets) if i not in to_discard])"
   ]
  },
  {
   "cell_type": "code",
   "execution_count": 8,
   "metadata": {},
   "outputs": [],
   "source": [
    "field_pot_cols = {field: [] for field in fields}\n",
    "for col in range(len(valid_tickets[0])):\n",
    "    for field, f_range in fields.items():\n",
    "        if set(valid_tickets[:,col]).issubset(f_range):\n",
    "            field_pot_cols[field].append(col)"
   ]
  },
  {
   "cell_type": "code",
   "execution_count": 9,
   "metadata": {},
   "outputs": [],
   "source": [
    "mapping = {}\n",
    "while field_pot_cols:\n",
    "    fields_to_pop = []\n",
    "    for field, pot_cols in field_pot_cols.items():\n",
    "        if len(pot_cols) == 1:\n",
    "            mapping[field] = pot_cols[0]\n",
    "            fields_to_pop.append(field)\n",
    "    for field in fields_to_pop:\n",
    "        field_pot_cols.pop(field)  \n",
    "        for not_mapped_field in field_pot_cols:\n",
    "            if mapping[field] in field_pot_cols[not_mapped_field]:\n",
    "                field_pot_cols[not_mapped_field].remove(mapping[field])"
   ]
  },
  {
   "cell_type": "code",
   "execution_count": 10,
   "metadata": {},
   "outputs": [
    {
     "data": {
      "text/plain": [
       "603409823791"
      ]
     },
     "execution_count": 10,
     "metadata": {},
     "output_type": "execute_result"
    }
   ],
   "source": [
    "reduce(mul, [my_ticket[mapping[field]] for field in mapping if 'departure' in field])"
   ]
  },
  {
   "cell_type": "code",
   "execution_count": null,
   "metadata": {},
   "outputs": [],
   "source": []
  }
 ],
 "metadata": {
  "kernelspec": {
   "display_name": "Python 3",
   "language": "python",
   "name": "python3"
  },
  "language_info": {
   "codemirror_mode": {
    "name": "ipython",
    "version": 3
   },
   "file_extension": ".py",
   "mimetype": "text/x-python",
   "name": "python",
   "nbconvert_exporter": "python",
   "pygments_lexer": "ipython3",
   "version": "3.8.5"
  }
 },
 "nbformat": 4,
 "nbformat_minor": 4
}
