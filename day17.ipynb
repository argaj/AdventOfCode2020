{
 "cells": [
  {
   "cell_type": "code",
   "execution_count": 1,
   "metadata": {},
   "outputs": [],
   "source": [
    "import numpy as np\n",
    "from scipy.ndimage import convolve"
   ]
  },
  {
   "cell_type": "code",
   "execution_count": 2,
   "metadata": {},
   "outputs": [],
   "source": [
    "with open('day17_input.txt', 'r') as f:\n",
    "    data = [line.rstrip('\\n') for line in f]\n",
    "data = np.array([[char for char in line] for line in data])"
   ]
  },
  {
   "cell_type": "code",
   "execution_count": 3,
   "metadata": {},
   "outputs": [],
   "source": [
    "mapping = {'.': 0,\n",
    "           '#': 1}\n",
    "state = np.vectorize(mapping.get)(data)"
   ]
  },
  {
   "cell_type": "code",
   "execution_count": 4,
   "metadata": {},
   "outputs": [],
   "source": [
    "def magic(state, n, iters):\n",
    "    mask = np.ones([3] * n)\n",
    "    mask[(1, ) * n] = 0\n",
    "    \n",
    "    board = np.zeros([3] * (n - 2) + [8, 8])\n",
    "    board[(1,) * (n - 2)] = state\n",
    "    \n",
    "    for i in range(iters):\n",
    "        board = np.pad(board, [(1,1)] * n, mode='constant', constant_values=0)\n",
    "        conv_board = convolve(board, mask, mode='constant', cval=0)\n",
    "        board = (((board == 1) & (conv_board > 1) & (conv_board < 4)) | ((board == 0) & (conv_board == 3))).astype(np.uint8)\n",
    "    return board.sum()"
   ]
  },
  {
   "cell_type": "code",
   "execution_count": 5,
   "metadata": {},
   "outputs": [
    {
     "data": {
      "text/plain": [
       "265"
      ]
     },
     "execution_count": 5,
     "metadata": {},
     "output_type": "execute_result"
    }
   ],
   "source": [
    "magic(state, 3, 6)"
   ]
  },
  {
   "cell_type": "code",
   "execution_count": 6,
   "metadata": {},
   "outputs": [
    {
     "data": {
      "text/plain": [
       "1936"
      ]
     },
     "execution_count": 6,
     "metadata": {},
     "output_type": "execute_result"
    }
   ],
   "source": [
    "magic(state, 4, 6)"
   ]
  },
  {
   "cell_type": "code",
   "execution_count": null,
   "metadata": {},
   "outputs": [],
   "source": []
  }
 ],
 "metadata": {
  "kernelspec": {
   "display_name": "Python 3",
   "language": "python",
   "name": "python3"
  },
  "language_info": {
   "codemirror_mode": {
    "name": "ipython",
    "version": 3
   },
   "file_extension": ".py",
   "mimetype": "text/x-python",
   "name": "python",
   "nbconvert_exporter": "python",
   "pygments_lexer": "ipython3",
   "version": "3.8.10"
  }
 },
 "nbformat": 4,
 "nbformat_minor": 4
}
