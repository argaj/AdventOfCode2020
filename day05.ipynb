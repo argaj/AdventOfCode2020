{
 "cells": [
  {
   "cell_type": "code",
   "execution_count": 1,
   "metadata": {},
   "outputs": [],
   "source": [
    "import numpy as np"
   ]
  },
  {
   "cell_type": "code",
   "execution_count": 2,
   "metadata": {},
   "outputs": [],
   "source": [
    "with open('day05_input.txt', 'r') as f:\n",
    "    data = [line.rstrip('\\n') for line in f]"
   ]
  },
  {
   "cell_type": "code",
   "execution_count": 3,
   "metadata": {},
   "outputs": [],
   "source": [
    "seats = []\n",
    "for seat in data:\n",
    "    row = 0\n",
    "    col = 0\n",
    "    sid = 0\n",
    "    for i, char in enumerate(seat[:7][::-1]):\n",
    "        if char == 'B':\n",
    "            row = row + 2 ** i\n",
    "    for i, char in enumerate(seat[7:10][::-1]):\n",
    "        if char == 'R':\n",
    "            col = col + 2 ** i\n",
    "    sid = row * 8 + col\n",
    "    seats.append((row, col, sid))"
   ]
  },
  {
   "cell_type": "code",
   "execution_count": 4,
   "metadata": {},
   "outputs": [
    {
     "data": {
      "text/plain": [
       "880"
      ]
     },
     "execution_count": 4,
     "metadata": {},
     "output_type": "execute_result"
    }
   ],
   "source": [
    "seats = np.array(seats)\n",
    "seats[:, 2].max()"
   ]
  },
  {
   "cell_type": "code",
   "execution_count": 5,
   "metadata": {},
   "outputs": [
    {
     "name": "stdout",
     "output_type": "stream",
     "text": [
      "Missing sid: 731\n"
     ]
    }
   ],
   "source": [
    "for i, sid in enumerate(np.sort(seats[:, 2], axis=0), start=13):\n",
    "    if sid - i != 0:\n",
    "        print(f'Missing sid: {i}')\n",
    "        break"
   ]
  },
  {
   "cell_type": "code",
   "execution_count": null,
   "metadata": {},
   "outputs": [],
   "source": []
  }
 ],
 "metadata": {
  "kernelspec": {
   "display_name": "Python 3",
   "language": "python",
   "name": "python3"
  },
  "language_info": {
   "codemirror_mode": {
    "name": "ipython",
    "version": 3
   },
   "file_extension": ".py",
   "mimetype": "text/x-python",
   "name": "python",
   "nbconvert_exporter": "python",
   "pygments_lexer": "ipython3",
   "version": "3.8.5"
  }
 },
 "nbformat": 4,
 "nbformat_minor": 4
}
