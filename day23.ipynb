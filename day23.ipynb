{
 "cells": [
  {
   "cell_type": "code",
   "execution_count": 420,
   "metadata": {},
   "outputs": [],
   "source": [
    "def play(cups, moves=100):\n",
    "    c_curr = cups[0]\n",
    "    i_curr = 0\n",
    "    for n in range(moves):\n",
    "        next_cups = [cups[idx % len(cups)] for idx in range(i_curr + 1, i_curr + 4)]\n",
    "        \n",
    "        c_dest = cups[i_curr] - 1\n",
    "        while True: \n",
    "            if c_dest < 0: c_dest += len(cups)\n",
    "            if c_dest not in next_cups:\n",
    "                break\n",
    "            c_dest -= 1\n",
    "        cups = [cup for cup in cups if cup not in next_cups]\n",
    "        i_dest = cups.index(c_dest)\n",
    "        cups[i_dest + 1:i_dest + 1] = next_cups\n",
    "        i_curr = (cups.index(c_curr) + 1) % len(cups)\n",
    "        c_curr = cups[i_curr]\n",
    "    return cups"
   ]
  },
  {
   "cell_type": "code",
   "execution_count": 421,
   "metadata": {},
   "outputs": [],
   "source": [
    "test_cups = '389125467'\n",
    "cups = '716892543'\n",
    "cups = [int(i) - 1 for i in cups]\n",
    "test_cups = [int(i) - 1 for i in test_cups]"
   ]
  },
  {
   "cell_type": "code",
   "execution_count": 422,
   "metadata": {},
   "outputs": [
    {
     "name": "stdout",
     "output_type": "stream",
     "text": [
      "49725386\n"
     ]
    }
   ],
   "source": [
    "labels = play(cups, moves=100)\n",
    "labels = [int(i) + 1 for i in labels]\n",
    "print(''.join([str(labels[label % len(labels)]) for label in range(labels.index(1) + 1, labels.index(1) + len(labels))]))"
   ]
  },
  {
   "cell_type": "code",
   "execution_count": 423,
   "metadata": {},
   "outputs": [],
   "source": [
    "def play(cups, moves=100):\n",
    "    c_curr = cups[0]\n",
    "    cups = {cups[i - 1]: cups[i] for i in range(len(cups))}\n",
    "    for n in range(moves):\n",
    "        next_cups = []\n",
    "        next_cup = cups[c_curr]\n",
    "        for i in range(3):\n",
    "            next_cups.append(next_cup)\n",
    "            next_cup = cups[next_cup]\n",
    "        c_dest = c_curr - 1\n",
    "        while True: \n",
    "            if c_dest < 0: c_dest += len(cups)\n",
    "            if c_dest not in next_cups:\n",
    "                break\n",
    "            c_dest -= 1\n",
    "        cups[c_curr] = cups[next_cups[-1]]\n",
    "        c_curr = cups[c_curr]\n",
    "        cups[next_cups[-1]] = cups[c_dest]\n",
    "        cups[c_dest] = next_cups[0]\n",
    "    return cups"
   ]
  },
  {
   "cell_type": "code",
   "execution_count": 424,
   "metadata": {},
   "outputs": [],
   "source": [
    "cups = play(cups + list(range(9, 1000000)), moves=10000000)"
   ]
  },
  {
   "cell_type": "code",
   "execution_count": 426,
   "metadata": {},
   "outputs": [
    {
     "data": {
      "text/plain": [
       "538935646702"
      ]
     },
     "execution_count": 426,
     "metadata": {},
     "output_type": "execute_result"
    }
   ],
   "source": [
    "(cups[0] + 1) * (cups[cups[0]] + 1)"
   ]
  },
  {
   "cell_type": "code",
   "execution_count": null,
   "metadata": {},
   "outputs": [],
   "source": []
  }
 ],
 "metadata": {
  "kernelspec": {
   "display_name": "Python 3",
   "language": "python",
   "name": "python3"
  },
  "language_info": {
   "codemirror_mode": {
    "name": "ipython",
    "version": 3
   },
   "file_extension": ".py",
   "mimetype": "text/x-python",
   "name": "python",
   "nbconvert_exporter": "python",
   "pygments_lexer": "ipython3",
   "version": "3.8.10"
  }
 },
 "nbformat": 4,
 "nbformat_minor": 4
}
