{
 "cells": [
  {
   "cell_type": "code",
   "execution_count": 1,
   "metadata": {},
   "outputs": [],
   "source": [
    "from functools import reduce"
   ]
  },
  {
   "cell_type": "code",
   "execution_count": 2,
   "metadata": {},
   "outputs": [],
   "source": [
    "with open('day21_input.txt', 'r') as f:\n",
    "    data = [line.rstrip('\\n') for line in f]"
   ]
  },
  {
   "cell_type": "code",
   "execution_count": 3,
   "metadata": {},
   "outputs": [],
   "source": [
    "# test_data = \"\"\"mxmxvkd kfcds sqjhc nhms (contains dairy, fish)\n",
    "# trh fvjkl sbzzf mxmxvkd (contains dairy)\n",
    "# sqjhc fvjkl (contains soy)\n",
    "# sqjhc mxmxvkd sbzzf (contains fish)\"\"\"\n",
    "# test_data = test_data.split('\\n')\n",
    "# test_data = [(line.split(' (')[0].split(), line.split(' (')[1][9:-1].split(', ')) for line in test_data]"
   ]
  },
  {
   "cell_type": "code",
   "execution_count": 4,
   "metadata": {},
   "outputs": [],
   "source": [
    "data = [(line.split(' (')[0].split(), line.split(' (')[1][9:-1].split(', ')) for line in data]"
   ]
  },
  {
   "cell_type": "code",
   "execution_count": 22,
   "metadata": {},
   "outputs": [],
   "source": [
    "ingredients = set()\n",
    "allergens = set()\n",
    "for line in data:\n",
    "    ingredients.update(line[0])\n",
    "    allergens.update(line[1])\n",
    "poss_allrg_ingr = {allergen: set() for allergen in allergens}\n",
    "for line in data:\n",
    "    for allergen in line[1]:\n",
    "        poss_allrg_ingr[allergen].update(line[0])\n",
    "for line in data:\n",
    "    for allergen in line[1]:\n",
    "        poss_allrg_ingr[allergen] = poss_allrg_ingr[allergen].intersection(set(line[0]))"
   ]
  },
  {
   "cell_type": "code",
   "execution_count": 23,
   "metadata": {},
   "outputs": [],
   "source": [
    "poss_ingr = reduce(lambda x, y: x.union(y), poss_allrg_ingr.values())"
   ]
  },
  {
   "cell_type": "code",
   "execution_count": 24,
   "metadata": {},
   "outputs": [],
   "source": [
    "sum_ = 0\n",
    "for ingrds, allergens in data:\n",
    "    sum_ += len(ingredients.difference(poss_ingr).intersection(set(ingrds)))"
   ]
  },
  {
   "cell_type": "code",
   "execution_count": 25,
   "metadata": {},
   "outputs": [
    {
     "data": {
      "text/plain": [
       "2302"
      ]
     },
     "execution_count": 25,
     "metadata": {},
     "output_type": "execute_result"
    }
   ],
   "source": [
    "sum_"
   ]
  },
  {
   "cell_type": "code",
   "execution_count": 26,
   "metadata": {},
   "outputs": [
    {
     "data": {
      "text/plain": [
       "{'fish': {'vhkj'},\n",
       " 'dairy': {'smfz', 'vhkj'},\n",
       " 'sesame': {'lcb', 'vhkj'},\n",
       " 'soy': {'dfzqlk', 'vhkj'},\n",
       " 'shellfish': {'lcb', 'lrqqqsg'},\n",
       " 'wheat': {'lrqqqsg', 'qzlmr', 'shp', 'vhkj'},\n",
       " 'nuts': {'qzlmr', 'tvdvzd'},\n",
       " 'peanuts': {'tvdvzd', 'vhkj'}}"
      ]
     },
     "execution_count": 26,
     "metadata": {},
     "output_type": "execute_result"
    }
   ],
   "source": [
    "poss_allrg_ingr"
   ]
  },
  {
   "cell_type": "code",
   "execution_count": 28,
   "metadata": {},
   "outputs": [
    {
     "data": {
      "text/plain": [
       "['dairy', 'fish', 'nuts', 'peanuts', 'sesame', 'shellfish', 'soy', 'wheat']"
      ]
     },
     "execution_count": 28,
     "metadata": {},
     "output_type": "execute_result"
    }
   ],
   "source": [
    "sorted(poss_allrg_ingr.keys())"
   ]
  },
  {
   "cell_type": "code",
   "execution_count": null,
   "metadata": {},
   "outputs": [],
   "source": [
    "'smfz,vhkj,qzlmr,tvdvzd,lcb,lrqqqsg,dfzqlk,shp'"
   ]
  }
 ],
 "metadata": {
  "kernelspec": {
   "display_name": "Python 3",
   "language": "python",
   "name": "python3"
  },
  "language_info": {
   "codemirror_mode": {
    "name": "ipython",
    "version": 3
   },
   "file_extension": ".py",
   "mimetype": "text/x-python",
   "name": "python",
   "nbconvert_exporter": "python",
   "pygments_lexer": "ipython3",
   "version": "3.8.10"
  }
 },
 "nbformat": 4,
 "nbformat_minor": 4
}
