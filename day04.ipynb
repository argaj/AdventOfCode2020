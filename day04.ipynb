{
 "cells": [
  {
   "cell_type": "code",
   "execution_count": 1,
   "metadata": {},
   "outputs": [],
   "source": [
    "import re"
   ]
  },
  {
   "cell_type": "code",
   "execution_count": 2,
   "metadata": {},
   "outputs": [],
   "source": [
    "with open('day04_input.txt', 'r') as f:\n",
    "    data = [line.rstrip('\\n') for line in f]"
   ]
  },
  {
   "cell_type": "code",
   "execution_count": 3,
   "metadata": {},
   "outputs": [],
   "source": [
    "passports = []\n",
    "passport = {}\n",
    "for row in data:\n",
    "    if row == '':\n",
    "        passports.append(passport)\n",
    "        passport = {}\n",
    "    row = row.split()\n",
    "    for i in row:\n",
    "        i = i.split(':')\n",
    "        passport[i[0]] = i[1]\n",
    "passports.append(passport)"
   ]
  },
  {
   "cell_type": "code",
   "execution_count": 4,
   "metadata": {},
   "outputs": [],
   "source": [
    "fields = {'byr', 'iyr', 'eyr', 'hgt', 'hcl', 'ecl', 'pid'}\n",
    "optional = ['cid']"
   ]
  },
  {
   "cell_type": "code",
   "execution_count": 5,
   "metadata": {},
   "outputs": [
    {
     "data": {
      "text/plain": [
       "228"
      ]
     },
     "execution_count": 5,
     "metadata": {},
     "output_type": "execute_result"
    }
   ],
   "source": [
    "sum([1 if len(set(passport.keys()).intersection(fields)) == 7 else 0 for passport in passports])"
   ]
  },
  {
   "cell_type": "code",
   "execution_count": 6,
   "metadata": {},
   "outputs": [],
   "source": [
    "#     byr (Birth Year) - four digits; at least 1920 and at most 2002.\n",
    "#     iyr (Issue Year) - four digits; at least 2010 and at most 2020.\n",
    "#     eyr (Expiration Year) - four digits; at least 2020 and at most 2030.\n",
    "#     hgt (Height) - a number followed by either cm or in:\n",
    "#         If cm, the number must be at least 150 and at most 193.\n",
    "#         If in, the number must be at least 59 and at most 76.\n",
    "#     hcl (Hair Color) - a # followed by exactly six characters 0-9 or a-f.\n",
    "#     ecl (Eye Color) - exactly one of: amb blu brn gry grn hzl oth.\n",
    "#     pid (Passport ID) - a nine-digit number, including leading zeroes.\n",
    "#     cid (Country ID) - ignored, missing or not."
   ]
  },
  {
   "cell_type": "code",
   "execution_count": 7,
   "metadata": {},
   "outputs": [],
   "source": [
    "valid_passports = []\n",
    "for passport in passports:\n",
    "    if len(set(passport.keys()).intersection(fields)) == 7:\n",
    "        valid_passports.append(passport)"
   ]
  },
  {
   "cell_type": "code",
   "execution_count": 8,
   "metadata": {},
   "outputs": [],
   "source": [
    "def is_valid(passport):\n",
    "    if not (int(passport['byr']) <= 2002 and int(passport['byr']) >= 1920):\n",
    "        return False\n",
    "    elif not (int(passport['iyr']) <= 2020 and int(passport['iyr']) >= 2010):\n",
    "        return False\n",
    "    elif not (int(passport['eyr']) <= 2030 and int(passport['eyr']) >= 2020):\n",
    "        return False\n",
    "    if not ('cm' in passport['hgt'] or 'in' in passport['hgt']):\n",
    "        return False\n",
    "    if passport['hgt'][-2:] == 'cm':\n",
    "        if not (int(passport['hgt'][:-2]) <= 193 and int(passport['hgt'][:-2]) >= 150):\n",
    "            return False\n",
    "    else:\n",
    "        if not (int(passport['hgt'][:-2]) <= 76 and int(passport['hgt'][:-2]) >= 59):\n",
    "            return False\n",
    "    pattern = re.compile(r'#[a-f0-9]{6}$')\n",
    "    if not bool(pattern.fullmatch(passport['hcl'])):\n",
    "        return False\n",
    "    if not passport['ecl'] in ['amb', 'blu', 'brn', 'gry', 'grn', 'hzl', 'oth']:\n",
    "        return False\n",
    "    pattern = re.compile(r'[0-9]{9}$')\n",
    "    if not bool(pattern.fullmatch(passport['pid'])):\n",
    "        return False\n",
    "    return True"
   ]
  },
  {
   "cell_type": "code",
   "execution_count": 9,
   "metadata": {},
   "outputs": [
    {
     "data": {
      "text/plain": [
       "175"
      ]
     },
     "execution_count": 9,
     "metadata": {},
     "output_type": "execute_result"
    }
   ],
   "source": [
    "sum([int(is_valid(passport)) for passport in valid_passports])"
   ]
  },
  {
   "cell_type": "code",
   "execution_count": null,
   "metadata": {},
   "outputs": [],
   "source": []
  }
 ],
 "metadata": {
  "kernelspec": {
   "display_name": "Python 3",
   "language": "python",
   "name": "python3"
  },
  "language_info": {
   "codemirror_mode": {
    "name": "ipython",
    "version": 3
   },
   "file_extension": ".py",
   "mimetype": "text/x-python",
   "name": "python",
   "nbconvert_exporter": "python",
   "pygments_lexer": "ipython3",
   "version": "3.8.5"
  }
 },
 "nbformat": 4,
 "nbformat_minor": 4
}
