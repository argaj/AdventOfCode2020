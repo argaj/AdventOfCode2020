{
 "cells": [
  {
   "cell_type": "code",
   "execution_count": 1,
   "metadata": {},
   "outputs": [],
   "source": [
    "from operator import mul, add"
   ]
  },
  {
   "cell_type": "code",
   "execution_count": 2,
   "metadata": {},
   "outputs": [],
   "source": [
    "with open('day18_input.txt', 'r') as f:\n",
    "    data = [line.rstrip('\\n').replace(' ', '') for line in f]"
   ]
  },
  {
   "cell_type": "code",
   "execution_count": 3,
   "metadata": {},
   "outputs": [],
   "source": [
    "def parse(line):\n",
    "    def _parse(line, i=0):\n",
    "        expr = []\n",
    "        open_parths = 1\n",
    "        while open_parths != 0 and i in range(len(line)):\n",
    "            token = line[i]\n",
    "            if token not in '()':\n",
    "                expr.append(token)\n",
    "                i += 1\n",
    "            elif token == '(':\n",
    "                sub_expr, i = _parse(line, i+1)\n",
    "                expr.append(sub_expr)\n",
    "            else:\n",
    "                open_parths -= 1\n",
    "                i += 1\n",
    "        return expr, i\n",
    "    return _parse(line)[0]"
   ]
  },
  {
   "cell_type": "code",
   "execution_count": 4,
   "metadata": {},
   "outputs": [],
   "source": [
    "def solve(expr):\n",
    "    ops = {'+': add,\n",
    "           '*': mul}\n",
    "    args = []\n",
    "    for token in expr:\n",
    "        if not isinstance(token, list):\n",
    "            if token not in ops:\n",
    "                args.append(int(token))\n",
    "            else:\n",
    "                op = ops[token] \n",
    "        else:\n",
    "            args.append(solve(token))\n",
    "        if len(args) == 2:\n",
    "            args = [op(*args)]\n",
    "    return args[0]"
   ]
  },
  {
   "cell_type": "code",
   "execution_count": 5,
   "metadata": {},
   "outputs": [
    {
     "data": {
      "text/plain": [
       "4940631886147"
      ]
     },
     "execution_count": 5,
     "metadata": {},
     "output_type": "execute_result"
    }
   ],
   "source": [
    "sum([solve(parse(line)) for line in data])"
   ]
  },
  {
   "cell_type": "code",
   "execution_count": 6,
   "metadata": {},
   "outputs": [],
   "source": [
    "def plus_precedence(expr):\n",
    "    new_expr = []\n",
    "    i = 0\n",
    "    while i in range(len(expr)):\n",
    "        if isinstance(expr[i], list):\n",
    "            new_expr.append(plus_precedence(expr[i]))\n",
    "        else:\n",
    "            new_expr.append(expr[i])\n",
    "            if expr[i] == '+':\n",
    "                if isinstance(expr[i + 1], list):\n",
    "                    next_expr = plus_precedence(expr[i + 1])\n",
    "                else:\n",
    "                    next_expr = expr[i + 1]\n",
    "                new_expr.pop()\n",
    "                prev = new_expr.pop()\n",
    "                new_expr.append([prev, '+', next_expr])\n",
    "                i += 1\n",
    "        i += 1\n",
    "    return new_expr"
   ]
  },
  {
   "cell_type": "code",
   "execution_count": 7,
   "metadata": {},
   "outputs": [
    {
     "data": {
      "text/plain": [
       "283582817678281"
      ]
     },
     "execution_count": 7,
     "metadata": {},
     "output_type": "execute_result"
    }
   ],
   "source": [
    "sum([solve(plus_precedence(parse(line))) for line in data])"
   ]
  },
  {
   "cell_type": "code",
   "execution_count": null,
   "metadata": {},
   "outputs": [],
   "source": []
  }
 ],
 "metadata": {
  "kernelspec": {
   "display_name": "Python 3",
   "language": "python",
   "name": "python3"
  },
  "language_info": {
   "codemirror_mode": {
    "name": "ipython",
    "version": 3
   },
   "file_extension": ".py",
   "mimetype": "text/x-python",
   "name": "python",
   "nbconvert_exporter": "python",
   "pygments_lexer": "ipython3",
   "version": "3.8.10"
  }
 },
 "nbformat": 4,
 "nbformat_minor": 4
}
