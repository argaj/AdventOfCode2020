{
 "cells": [
  {
   "cell_type": "code",
   "execution_count": 1,
   "metadata": {},
   "outputs": [],
   "source": [
    "import re\n",
    "import numpy as np\n",
    "from itertools import groupby\n",
    "from functools import reduce\n",
    "from operator import mul"
   ]
  },
  {
   "cell_type": "code",
   "execution_count": 2,
   "metadata": {},
   "outputs": [],
   "source": [
    "with open('day20_input.txt', 'r') as f:\n",
    "    data = [line.rstrip('\\n') for line in f]\n",
    "data = [list(group) for k, group in groupby(data, lambda x: x == \"\") if not k]\n",
    "data = [(int(re.findall(r'\\d+', image[0])[0]), \n",
    "         np.array([[char for char in line] for line in image[1:]])) for image in data]"
   ]
  },
  {
   "cell_type": "code",
   "execution_count": 3,
   "metadata": {},
   "outputs": [],
   "source": [
    "def get_edges(arr):\n",
    "    edges = {''.join(arr[0]), ''.join(arr[0][::-1]),\n",
    "             ''.join(arr[-1]), ''.join(arr[-1])[::-1],\n",
    "             ''.join(arr[:, 0]), ''.join(arr[:, 0])[::-1],\n",
    "             ''.join(arr[:, -1]), ''.join(arr[:, -1])[::-1]}\n",
    "    return edges"
   ]
  },
  {
   "cell_type": "code",
   "execution_count": 4,
   "metadata": {},
   "outputs": [],
   "source": [
    "adj = dict(zip([i[0] for i in data], [0] * len(data)))\n",
    "for i in range(len(data)):\n",
    "    id_i, a_i = data[i]\n",
    "    i_edges = get_edges(a_i)\n",
    "    for j in range(i + 1, len(data)):\n",
    "        id_j, a_j = data[j]\n",
    "        j_edges = get_edges(a_j)\n",
    "        if len(i_edges.intersection(j_edges)) > 0:\n",
    "            adj[id_i] += 1\n",
    "            adj[id_j] += 1"
   ]
  },
  {
   "cell_type": "code",
   "execution_count": 5,
   "metadata": {},
   "outputs": [
    {
     "name": "stdout",
     "output_type": "stream",
     "text": [
      "3467 2\n",
      "3169 2\n",
      "1019 2\n",
      "1249 2\n"
     ]
    }
   ],
   "source": [
    "corners = []\n",
    "for id_, count in adj.items():\n",
    "    if count < 3:\n",
    "        corners.append(id_)\n",
    "        print(id_, count)"
   ]
  },
  {
   "cell_type": "code",
   "execution_count": 6,
   "metadata": {},
   "outputs": [
    {
     "data": {
      "text/plain": [
       "13983397496713"
      ]
     },
     "execution_count": 6,
     "metadata": {},
     "output_type": "execute_result"
    }
   ],
   "source": [
    "reduce(mul, corners)"
   ]
  },
  {
   "cell_type": "code",
   "execution_count": 7,
   "metadata": {},
   "outputs": [],
   "source": [
    "def find_fitting(border, border_orient, arr):\n",
    "    for i in range(4):\n",
    "        arr = np.rot90(arr)\n",
    "        for j in range(2):\n",
    "            arr = np.flip(arr, axis=0)\n",
    "            if (arr[border_orient] == border).all():\n",
    "                return arr, i + 1, j + 1\n",
    "    return None, None, None"
   ]
  },
  {
   "cell_type": "code",
   "execution_count": 8,
   "metadata": {},
   "outputs": [],
   "source": [
    "# id 1019 found as top-left through trial and error\n",
    "top_left_idx = [item[0] for item in data].index(1019)"
   ]
  },
  {
   "cell_type": "code",
   "execution_count": 9,
   "metadata": {},
   "outputs": [],
   "source": [
    "data.insert(0, data.pop(top_left_idx))\n",
    "images = [[data.pop(0)[1]]]"
   ]
  },
  {
   "cell_type": "code",
   "execution_count": 10,
   "metadata": {},
   "outputs": [],
   "source": [
    "#First row\n",
    "for i in range(12):\n",
    "    img = images[0][i]\n",
    "    for j in range(len(data)):\n",
    "        _, aj = data[j]\n",
    "        arr, n_rot, n_flips = find_fitting(img[:, -1], (slice(None), 0), aj)\n",
    "        if arr is not None:\n",
    "            images[0].append(arr)\n",
    "            data.pop(j)\n",
    "            break"
   ]
  },
  {
   "cell_type": "code",
   "execution_count": 11,
   "metadata": {},
   "outputs": [],
   "source": [
    "#Rest of rows\n",
    "for n in range(11):\n",
    "    images.append([])\n",
    "    for i in range(12):\n",
    "        img = images[n][i]\n",
    "        for j in range(len(data)):\n",
    "            _, aj = data[j]\n",
    "            arr, n_rot, n_flips = find_fitting(img[-1], (0, slice(None)), aj)\n",
    "            if arr is not None:\n",
    "                images[n + 1].append(arr)\n",
    "                data.pop(j)\n",
    "                break"
   ]
  },
  {
   "cell_type": "code",
   "execution_count": 12,
   "metadata": {},
   "outputs": [],
   "source": [
    "true_image = []\n",
    "for row in images:\n",
    "    true_row = []\n",
    "    for img in row:\n",
    "        true_row.append(img[1:-1, 1:-1])\n",
    "    true_row = np.concatenate(true_row, axis=1)\n",
    "    true_image.append(true_row)\n",
    "true_image = np.concatenate(true_image, axis=0)"
   ]
  },
  {
   "cell_type": "code",
   "execution_count": 13,
   "metadata": {},
   "outputs": [],
   "source": [
    "monster = ['                  # ', '#    ##    ##    ###', ' #  #  #  #  #  #   ']\n",
    "monster = np.array([[char for char in line] for line in monster])"
   ]
  },
  {
   "cell_type": "code",
   "execution_count": 14,
   "metadata": {},
   "outputs": [
    {
     "data": {
      "text/plain": [
       "array([[' ', ' ', ' ', ' ', ' ', ' ', ' ', ' ', ' ', ' ', ' ', ' ', ' ',\n",
       "        ' ', ' ', ' ', ' ', ' ', '#', ' '],\n",
       "       ['#', ' ', ' ', ' ', ' ', '#', '#', ' ', ' ', ' ', ' ', '#', '#',\n",
       "        ' ', ' ', ' ', ' ', '#', '#', '#'],\n",
       "       [' ', '#', ' ', ' ', '#', ' ', ' ', '#', ' ', ' ', '#', ' ', ' ',\n",
       "        '#', ' ', ' ', '#', ' ', ' ', ' ']], dtype='<U1')"
      ]
     },
     "execution_count": 14,
     "metadata": {},
     "output_type": "execute_result"
    }
   ],
   "source": [
    "monster"
   ]
  },
  {
   "cell_type": "code",
   "execution_count": 15,
   "metadata": {},
   "outputs": [],
   "source": [
    "mask = monster == '#'\n",
    "vals = np.array(['#'] * mask.sum())"
   ]
  },
  {
   "cell_type": "code",
   "execution_count": 17,
   "metadata": {},
   "outputs": [],
   "source": [
    "import skimage"
   ]
  },
  {
   "cell_type": "code",
   "execution_count": 24,
   "metadata": {},
   "outputs": [],
   "source": [
    "arr = true_image\n",
    "n_monsters = 0\n",
    "for i in range(4):\n",
    "    arr = np.rot90(arr)\n",
    "    for j in range(2):\n",
    "        arr = np.flip(arr, axis=0)\n",
    "        windows = skimage.util.view_as_windows(arr, mask.shape)\n",
    "        for n, col in enumerate(windows):\n",
    "            for k, row in enumerate(col):\n",
    "                if np.all(row[mask] == vals, axis = -1):\n",
    "                    n_monsters += 1"
   ]
  },
  {
   "cell_type": "code",
   "execution_count": 25,
   "metadata": {},
   "outputs": [
    {
     "data": {
      "text/plain": [
       "2424"
      ]
     },
     "execution_count": 25,
     "metadata": {},
     "output_type": "execute_result"
    }
   ],
   "source": [
    "(true_image == '#').sum() - n_monsters * 15"
   ]
  },
  {
   "cell_type": "code",
   "execution_count": null,
   "metadata": {},
   "outputs": [],
   "source": []
  }
 ],
 "metadata": {
  "kernelspec": {
   "display_name": "Python 3",
   "language": "python",
   "name": "python3"
  },
  "language_info": {
   "codemirror_mode": {
    "name": "ipython",
    "version": 3
   },
   "file_extension": ".py",
   "mimetype": "text/x-python",
   "name": "python",
   "nbconvert_exporter": "python",
   "pygments_lexer": "ipython3",
   "version": "3.8.10"
  }
 },
 "nbformat": 4,
 "nbformat_minor": 4
}
