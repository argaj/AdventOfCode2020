{
 "cells": [
  {
   "cell_type": "code",
   "execution_count": 1,
   "metadata": {},
   "outputs": [],
   "source": [
    "from math import cos, sin, pi\n",
    "import numpy as np"
   ]
  },
  {
   "cell_type": "code",
   "execution_count": 2,
   "metadata": {},
   "outputs": [],
   "source": [
    "with open('day12_input.txt', 'r') as f:\n",
    "    data = [line.rstrip('\\n') for line in f]\n",
    "data = [[i[0], int(i[1:])] for i in data]"
   ]
  },
  {
   "cell_type": "code",
   "execution_count": 3,
   "metadata": {},
   "outputs": [],
   "source": [
    "card_pt = {'N': np.array((0, 1)),\n",
    "           'E': np.array((1, 0)),\n",
    "           'S': np.array((0, -1)),\n",
    "           'W': np.array((-1, 0))}\n",
    "card_pt_rev = {(0, 1): 'N',\n",
    "               (1, 0): 'E',\n",
    "               (0, -1): 'S',\n",
    "               (-1, 0): 'W'}"
   ]
  },
  {
   "cell_type": "code",
   "execution_count": 4,
   "metadata": {},
   "outputs": [],
   "source": [
    "def rotate(coord, theta):\n",
    "    theta = theta / 180 * pi\n",
    "    x, y = coord\n",
    "    return (int(round(x * cos(-theta) - y * sin(-theta))),\n",
    "            int(round(x * sin(-theta) + y * cos(-theta))))"
   ]
  },
  {
   "cell_type": "code",
   "execution_count": 5,
   "metadata": {},
   "outputs": [],
   "source": [
    "def move(pos, facing, instr):\n",
    "    if instr[0] in ('N', 'E', 'S', 'W'):\n",
    "        return pos + instr[1] * card_pt[instr[0]], facing\n",
    "    elif instr[0] == 'F':\n",
    "        return move(pos, facing, [facing, instr[1]])\n",
    "    elif instr[0] in ('L', 'R'):\n",
    "        theta = instr[1] if instr[0] == 'R' else -instr[1]\n",
    "        return pos, card_pt_rev[rotate(card_pt[facing], theta)]"
   ]
  },
  {
   "cell_type": "code",
   "execution_count": 6,
   "metadata": {},
   "outputs": [],
   "source": [
    "pos = np.array((0, 0))\n",
    "facing = 'E'\n",
    "for instr in data:\n",
    "    pos, facing = move(pos, facing, instr)"
   ]
  },
  {
   "cell_type": "code",
   "execution_count": 7,
   "metadata": {},
   "outputs": [
    {
     "data": {
      "text/plain": [
       "1710"
      ]
     },
     "execution_count": 7,
     "metadata": {},
     "output_type": "execute_result"
    }
   ],
   "source": [
    "np.abs(pos).sum()"
   ]
  },
  {
   "cell_type": "code",
   "execution_count": 8,
   "metadata": {},
   "outputs": [],
   "source": [
    "waypoint = np.array((10, 1))\n",
    "pos = np.array((0, 0))\n",
    "for instr in data:\n",
    "    if instr[0] in ('N', 'E', 'S', 'W'):\n",
    "        waypoint = waypoint + instr[1] * card_pt[instr[0]]\n",
    "    elif instr[0] == 'F':\n",
    "        pos = pos + instr[1] * waypoint\n",
    "    elif instr[0] in ('L', 'R'):\n",
    "        theta = instr[1] if instr[0] == 'R' else -instr[1]\n",
    "        waypoint = np.array(rotate(waypoint, theta))"
   ]
  },
  {
   "cell_type": "code",
   "execution_count": 9,
   "metadata": {},
   "outputs": [
    {
     "data": {
      "text/plain": [
       "62045"
      ]
     },
     "execution_count": 9,
     "metadata": {},
     "output_type": "execute_result"
    }
   ],
   "source": [
    "sum(pos)"
   ]
  },
  {
   "cell_type": "code",
   "execution_count": null,
   "metadata": {},
   "outputs": [],
   "source": []
  }
 ],
 "metadata": {
  "kernelspec": {
   "display_name": "Python 3",
   "language": "python",
   "name": "python3"
  },
  "language_info": {
   "codemirror_mode": {
    "name": "ipython",
    "version": 3
   },
   "file_extension": ".py",
   "mimetype": "text/x-python",
   "name": "python",
   "nbconvert_exporter": "python",
   "pygments_lexer": "ipython3",
   "version": "3.8.5"
  }
 },
 "nbformat": 4,
 "nbformat_minor": 4
}
