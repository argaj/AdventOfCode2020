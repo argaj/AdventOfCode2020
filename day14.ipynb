{
 "cells": [
  {
   "cell_type": "code",
   "execution_count": 1,
   "metadata": {},
   "outputs": [],
   "source": [
    "with open('day14_input.txt', 'r') as f:\n",
    "    data = [line.rstrip('\\n') for line in f]\n",
    "data = [line.split(' = ') for line in data]"
   ]
  },
  {
   "cell_type": "code",
   "execution_count": 2,
   "metadata": {},
   "outputs": [],
   "source": [
    "def emulator(code):\n",
    "    mem = {}\n",
    "    def new_val(value, bitmask):\n",
    "        value = f'{value:036b}'\n",
    "        new_val = ''\n",
    "        for v, m in zip(value, bitmask):\n",
    "            if m == 'X':\n",
    "                new_val += v\n",
    "            else:\n",
    "                new_val += m\n",
    "        return int(new_val, 2)\n",
    "    for cmd in code:\n",
    "        if cmd[0] == 'mask':\n",
    "            mask = cmd[1]\n",
    "        else:\n",
    "            exec(f'{cmd[0]} = {new_val(int(cmd[1]), mask)}')\n",
    "    return mem"
   ]
  },
  {
   "cell_type": "code",
   "execution_count": 3,
   "metadata": {},
   "outputs": [
    {
     "data": {
      "text/plain": [
       "11612740949946"
      ]
     },
     "execution_count": 3,
     "metadata": {},
     "output_type": "execute_result"
    }
   ],
   "source": [
    "sum(emulator(data).values())"
   ]
  },
  {
   "cell_type": "code",
   "execution_count": 4,
   "metadata": {},
   "outputs": [],
   "source": [
    "from itertools import product\n",
    "import re"
   ]
  },
  {
   "cell_type": "code",
   "execution_count": 5,
   "metadata": {},
   "outputs": [],
   "source": [
    "def emulator_v2(code):\n",
    "    mem = {}\n",
    "    def decode(addr, bitmask):\n",
    "        addresses = []\n",
    "        addr = f'{addr:036b}'\n",
    "        n = bitmask.count('X')\n",
    "        floating = product('01', repeat=n)\n",
    "        for prod in floating:\n",
    "            new_addr = ''\n",
    "            i = 0\n",
    "            for v, m in zip(addr, bitmask):\n",
    "                if m == 'X':\n",
    "                    new_addr += prod[i]\n",
    "                    i += 1\n",
    "                elif m == '0':\n",
    "                    new_addr += v\n",
    "                else:\n",
    "                    new_addr += m\n",
    "            addresses.append(int(new_addr, 2))\n",
    "        return addresses\n",
    "    for cmd in code:\n",
    "        if cmd[0] == 'mask':\n",
    "            mask = cmd[1]\n",
    "        else:\n",
    "            addr = int(re.findall(r'\\d+', cmd[0])[0])\n",
    "            new_addresses = decode(addr, mask)\n",
    "            for addr in new_addresses:\n",
    "                mem[addr] = int(cmd[1])\n",
    "    return mem"
   ]
  },
  {
   "cell_type": "code",
   "execution_count": 6,
   "metadata": {},
   "outputs": [
    {
     "data": {
      "text/plain": [
       "3394509207186"
      ]
     },
     "execution_count": 6,
     "metadata": {},
     "output_type": "execute_result"
    }
   ],
   "source": [
    "sum(emulator_v2(data).values())"
   ]
  },
  {
   "cell_type": "code",
   "execution_count": null,
   "metadata": {},
   "outputs": [],
   "source": []
  }
 ],
 "metadata": {
  "kernelspec": {
   "display_name": "Python 3",
   "language": "python",
   "name": "python3"
  },
  "language_info": {
   "codemirror_mode": {
    "name": "ipython",
    "version": 3
   },
   "file_extension": ".py",
   "mimetype": "text/x-python",
   "name": "python",
   "nbconvert_exporter": "python",
   "pygments_lexer": "ipython3",
   "version": "3.8.5"
  }
 },
 "nbformat": 4,
 "nbformat_minor": 4
}
