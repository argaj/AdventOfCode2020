{
 "cells": [
  {
   "cell_type": "code",
   "execution_count": 1,
   "metadata": {},
   "outputs": [],
   "source": [
    "with open('day10_input.txt', 'r') as f:\n",
    "    data = [int(line.rstrip('\\n')) for line in f]"
   ]
  },
  {
   "cell_type": "code",
   "execution_count": 2,
   "metadata": {},
   "outputs": [],
   "source": [
    "data = sorted(data)\n",
    "data = [0] + data + [data[-1] + 3]"
   ]
  },
  {
   "cell_type": "code",
   "execution_count": 3,
   "metadata": {},
   "outputs": [],
   "source": [
    "diffs = [data[i] - data[i-1] for i in range(1, len(data))]"
   ]
  },
  {
   "cell_type": "code",
   "execution_count": 4,
   "metadata": {},
   "outputs": [
    {
     "data": {
      "text/plain": [
       "2484"
      ]
     },
     "execution_count": 4,
     "metadata": {},
     "output_type": "execute_result"
    }
   ],
   "source": [
    "diffs.count(1) * diffs.count(3)"
   ]
  },
  {
   "cell_type": "code",
   "execution_count": 5,
   "metadata": {},
   "outputs": [],
   "source": [
    "adj_list = []\n",
    "for i in range(len(data)):\n",
    "    node = [data[i]]\n",
    "    j = i + 1\n",
    "    while j < len(data) and data[j] - data[i] < 4:\n",
    "        node.append(data[j])\n",
    "        j += 1\n",
    "    adj_list.append(node)"
   ]
  },
  {
   "cell_type": "code",
   "execution_count": 6,
   "metadata": {},
   "outputs": [
    {
     "name": "stdout",
     "output_type": "stream",
     "text": [
      "15790581481472\n"
     ]
    }
   ],
   "source": [
    "n_paths = dict(zip(data, [0] * len(data)))\n",
    "n_paths[data[-1]] = 1\n",
    "for list_ in adj_list[:-1][::-1]:\n",
    "    cur_node = list_[0]\n",
    "    n_paths[cur_node] = sum([n_paths[node] for node in list_[1:]])\n",
    "print(n_paths[0])"
   ]
  },
  {
   "cell_type": "code",
   "execution_count": null,
   "metadata": {},
   "outputs": [],
   "source": []
  }
 ],
 "metadata": {
  "kernelspec": {
   "display_name": "Python 3",
   "language": "python",
   "name": "python3"
  },
  "language_info": {
   "codemirror_mode": {
    "name": "ipython",
    "version": 3
   },
   "file_extension": ".py",
   "mimetype": "text/x-python",
   "name": "python",
   "nbconvert_exporter": "python",
   "pygments_lexer": "ipython3",
   "version": "3.8.5"
  }
 },
 "nbformat": 4,
 "nbformat_minor": 4
}
