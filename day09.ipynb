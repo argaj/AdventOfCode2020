{
 "cells": [
  {
   "cell_type": "code",
   "execution_count": 1,
   "metadata": {},
   "outputs": [],
   "source": [
    "with open('day09_input.txt', 'r') as f:\n",
    "    data = [int(line.rstrip('\\n')) for line in f]"
   ]
  },
  {
   "cell_type": "code",
   "execution_count": 2,
   "metadata": {},
   "outputs": [],
   "source": [
    "import copy"
   ]
  },
  {
   "cell_type": "code",
   "execution_count": 3,
   "metadata": {},
   "outputs": [
    {
     "data": {
      "text/plain": [
       "1212510616"
      ]
     },
     "execution_count": 3,
     "metadata": {},
     "output_type": "execute_result"
    }
   ],
   "source": [
    "def find_weakness(data):\n",
    "    def is_sum(i):\n",
    "        n = 0\n",
    "        prev = copy.copy(data[i-25:i])\n",
    "        prev = sorted(prev)\n",
    "        for j in range(1, len(prev)):\n",
    "            for k in range(j):\n",
    "                n += 1\n",
    "                if prev[j] + prev[k] == data[i]:\n",
    "                    return True\n",
    "        return False\n",
    "    for i in range(25, len(data)):\n",
    "        if not is_sum(i):\n",
    "            return data[i]\n",
    "weakness = find_weakness(data)\n",
    "weakness"
   ]
  },
  {
   "cell_type": "code",
   "execution_count": 4,
   "metadata": {},
   "outputs": [
    {
     "name": "stdout",
     "output_type": "stream",
     "text": [
      "171265123\n"
     ]
    }
   ],
   "source": [
    "for i in range(len(data)-1):\n",
    "    sum_ = data[i]\n",
    "    for j in range(i + 1, len(data)):\n",
    "        sum_ += data[j]\n",
    "        if sum_ == weakness:\n",
    "            contiguous = data[i:j + 1]\n",
    "            print(min(contiguous) + max(contiguous))\n",
    "        if sum_ > weakness:\n",
    "            break   "
   ]
  },
  {
   "cell_type": "code",
   "execution_count": null,
   "metadata": {},
   "outputs": [],
   "source": []
  }
 ],
 "metadata": {
  "kernelspec": {
   "display_name": "Python 3",
   "language": "python",
   "name": "python3"
  },
  "language_info": {
   "codemirror_mode": {
    "name": "ipython",
    "version": 3
   },
   "file_extension": ".py",
   "mimetype": "text/x-python",
   "name": "python",
   "nbconvert_exporter": "python",
   "pygments_lexer": "ipython3",
   "version": "3.8.5"
  }
 },
 "nbformat": 4,
 "nbformat_minor": 4
}
